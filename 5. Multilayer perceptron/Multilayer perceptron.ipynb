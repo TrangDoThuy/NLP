{
 "cells": [
  {
   "cell_type": "markdown",
   "metadata": {},
   "source": [
    "# Multilayer perceptron"
   ]
  },
  {
   "cell_type": "code",
   "execution_count": 1,
   "metadata": {},
   "outputs": [
    {
     "name": "stdout",
     "output_type": "stream",
     "text": [
      "Requirement already satisfied: nltk in c:\\users\\trang\\anaconda3\\lib\\site-packages (3.4.5)\n",
      "Requirement already satisfied: six in c:\\users\\trang\\anaconda3\\lib\\site-packages (from nltk) (1.14.0)\n",
      "Requirement already satisfied: numpy in c:\\users\\trang\\anaconda3\\lib\\site-packages (1.18.1)\n",
      "Requirement already satisfied: pandas in c:\\users\\trang\\anaconda3\\lib\\site-packages (1.0.1)\n",
      "Requirement already satisfied: python-dateutil>=2.6.1 in c:\\users\\trang\\anaconda3\\lib\\site-packages (from pandas) (2.8.1)\n",
      "Requirement already satisfied: numpy>=1.13.3 in c:\\users\\trang\\anaconda3\\lib\\site-packages (from pandas) (1.18.1)\n",
      "Requirement already satisfied: pytz>=2017.2 in c:\\users\\trang\\anaconda3\\lib\\site-packages (from pandas) (2019.3)\n",
      "Requirement already satisfied: six>=1.5 in c:\\users\\trang\\anaconda3\\lib\\site-packages (from python-dateutil>=2.6.1->pandas) (1.14.0)\n",
      "Requirement already satisfied: keras in c:\\users\\trang\\anaconda3\\lib\\site-packages (2.4.3)\n",
      "Requirement already satisfied: scipy>=0.14 in c:\\users\\trang\\anaconda3\\lib\\site-packages (from keras) (1.4.1)\n",
      "Requirement already satisfied: numpy>=1.9.1 in c:\\users\\trang\\anaconda3\\lib\\site-packages (from keras) (1.18.1)\n",
      "Requirement already satisfied: pyyaml in c:\\users\\trang\\anaconda3\\lib\\site-packages (from keras) (5.3)\n",
      "Requirement already satisfied: h5py in c:\\users\\trang\\anaconda3\\lib\\site-packages (from keras) (2.10.0)\n",
      "Requirement already satisfied: six in c:\\users\\trang\\anaconda3\\lib\\site-packages (from h5py->keras) (1.14.0)\n",
      "Requirement already satisfied: matplotlib in c:\\users\\trang\\anaconda3\\lib\\site-packages (3.1.3)\n",
      "Requirement already satisfied: python-dateutil>=2.1 in c:\\users\\trang\\anaconda3\\lib\\site-packages (from matplotlib) (2.8.1)\n",
      "Requirement already satisfied: kiwisolver>=1.0.1 in c:\\users\\trang\\anaconda3\\lib\\site-packages (from matplotlib) (1.1.0)\n",
      "Requirement already satisfied: cycler>=0.10 in c:\\users\\trang\\anaconda3\\lib\\site-packages (from matplotlib) (0.10.0)\n",
      "Requirement already satisfied: numpy>=1.11 in c:\\users\\trang\\anaconda3\\lib\\site-packages (from matplotlib) (1.18.1)\n",
      "Requirement already satisfied: pyparsing!=2.0.4,!=2.1.2,!=2.1.6,>=2.0.1 in c:\\users\\trang\\anaconda3\\lib\\site-packages (from matplotlib) (2.4.6)\n",
      "Requirement already satisfied: six>=1.5 in c:\\users\\trang\\anaconda3\\lib\\site-packages (from python-dateutil>=2.1->matplotlib) (1.14.0)\n",
      "Requirement already satisfied: setuptools in c:\\users\\trang\\anaconda3\\lib\\site-packages (from kiwisolver>=1.0.1->matplotlib) (45.2.0.post20200210)\n",
      "Requirement already satisfied: tensorflow in c:\\users\\trang\\anaconda3\\lib\\site-packages (2.3.1)\n",
      "Requirement already satisfied: termcolor>=1.1.0 in c:\\users\\trang\\anaconda3\\lib\\site-packages (from tensorflow) (1.1.0)\n",
      "Requirement already satisfied: protobuf>=3.9.2 in c:\\users\\trang\\anaconda3\\lib\\site-packages (from tensorflow) (3.13.0)\n",
      "Requirement already satisfied: google-pasta>=0.1.8 in c:\\users\\trang\\anaconda3\\lib\\site-packages (from tensorflow) (0.2.0)\n",
      "Requirement already satisfied: gast==0.3.3 in c:\\users\\trang\\anaconda3\\lib\\site-packages (from tensorflow) (0.3.3)\n",
      "Requirement already satisfied: six>=1.12.0 in c:\\users\\trang\\anaconda3\\lib\\site-packages (from tensorflow) (1.14.0)\n",
      "Requirement already satisfied: absl-py>=0.7.0 in c:\\users\\trang\\anaconda3\\lib\\site-packages (from tensorflow) (0.10.0)\n",
      "Requirement already satisfied: keras-preprocessing<1.2,>=1.1.1 in c:\\users\\trang\\anaconda3\\lib\\site-packages (from tensorflow) (1.1.2)\n",
      "Requirement already satisfied: tensorboard<3,>=2.3.0 in c:\\users\\trang\\anaconda3\\lib\\site-packages (from tensorflow) (2.3.0)\n",
      "Requirement already satisfied: wheel>=0.26 in c:\\users\\trang\\anaconda3\\lib\\site-packages (from tensorflow) (0.34.2)\n",
      "Requirement already satisfied: h5py<2.11.0,>=2.10.0 in c:\\users\\trang\\anaconda3\\lib\\site-packages (from tensorflow) (2.10.0)\n",
      "Requirement already satisfied: astunparse==1.6.3 in c:\\users\\trang\\anaconda3\\lib\\site-packages (from tensorflow) (1.6.3)\n",
      "Requirement already satisfied: grpcio>=1.8.6 in c:\\users\\trang\\anaconda3\\lib\\site-packages (from tensorflow) (1.33.1)\n",
      "Requirement already satisfied: numpy<1.19.0,>=1.16.0 in c:\\users\\trang\\anaconda3\\lib\\site-packages (from tensorflow) (1.18.1)\n",
      "Requirement already satisfied: tensorflow-estimator<2.4.0,>=2.3.0 in c:\\users\\trang\\anaconda3\\lib\\site-packages (from tensorflow) (2.3.0)\n",
      "Requirement already satisfied: wrapt>=1.11.1 in c:\\users\\trang\\anaconda3\\lib\\site-packages (from tensorflow) (1.11.2)\n",
      "Requirement already satisfied: opt-einsum>=2.3.2 in c:\\users\\trang\\anaconda3\\lib\\site-packages (from tensorflow) (3.3.0)\n",
      "Requirement already satisfied: setuptools in c:\\users\\trang\\anaconda3\\lib\\site-packages (from protobuf>=3.9.2->tensorflow) (45.2.0.post20200210)\n",
      "Requirement already satisfied: google-auth<2,>=1.6.3 in c:\\users\\trang\\anaconda3\\lib\\site-packages (from tensorboard<3,>=2.3.0->tensorflow) (1.22.1)\n",
      "Requirement already satisfied: tensorboard-plugin-wit>=1.6.0 in c:\\users\\trang\\anaconda3\\lib\\site-packages (from tensorboard<3,>=2.3.0->tensorflow) (1.7.0)\n",
      "Requirement already satisfied: google-auth-oauthlib<0.5,>=0.4.1 in c:\\users\\trang\\anaconda3\\lib\\site-packages (from tensorboard<3,>=2.3.0->tensorflow) (0.4.1)\n",
      "Requirement already satisfied: requests<3,>=2.21.0 in c:\\users\\trang\\anaconda3\\lib\\site-packages (from tensorboard<3,>=2.3.0->tensorflow) (2.22.0)\n",
      "Requirement already satisfied: markdown>=2.6.8 in c:\\users\\trang\\anaconda3\\lib\\site-packages (from tensorboard<3,>=2.3.0->tensorflow) (3.3.3)\n",
      "Requirement already satisfied: werkzeug>=0.11.15 in c:\\users\\trang\\anaconda3\\lib\\site-packages (from tensorboard<3,>=2.3.0->tensorflow) (1.0.0)\n",
      "Requirement already satisfied: pyasn1-modules>=0.2.1 in c:\\users\\trang\\anaconda3\\lib\\site-packages (from google-auth<2,>=1.6.3->tensorboard<3,>=2.3.0->tensorflow) (0.2.8)\n",
      "Requirement already satisfied: cachetools<5.0,>=2.0.0 in c:\\users\\trang\\anaconda3\\lib\\site-packages (from google-auth<2,>=1.6.3->tensorboard<3,>=2.3.0->tensorflow) (4.1.1)\n",
      "Requirement already satisfied: rsa<5,>=3.1.4; python_version >= \"3.5\" in c:\\users\\trang\\anaconda3\\lib\\site-packages (from google-auth<2,>=1.6.3->tensorboard<3,>=2.3.0->tensorflow) (4.6)\n",
      "Requirement already satisfied: requests-oauthlib>=0.7.0 in c:\\users\\trang\\anaconda3\\lib\\site-packages (from google-auth-oauthlib<0.5,>=0.4.1->tensorboard<3,>=2.3.0->tensorflow) (1.3.0)\n",
      "Requirement already satisfied: urllib3!=1.25.0,!=1.25.1,<1.26,>=1.21.1 in c:\\users\\trang\\anaconda3\\lib\\site-packages (from requests<3,>=2.21.0->tensorboard<3,>=2.3.0->tensorflow) (1.25.8)\n",
      "Requirement already satisfied: idna<2.9,>=2.5 in c:\\users\\trang\\anaconda3\\lib\\site-packages (from requests<3,>=2.21.0->tensorboard<3,>=2.3.0->tensorflow) (2.8)\n",
      "Requirement already satisfied: chardet<3.1.0,>=3.0.2 in c:\\users\\trang\\anaconda3\\lib\\site-packages (from requests<3,>=2.21.0->tensorboard<3,>=2.3.0->tensorflow) (3.0.4)\n",
      "Requirement already satisfied: certifi>=2017.4.17 in c:\\users\\trang\\anaconda3\\lib\\site-packages (from requests<3,>=2.21.0->tensorboard<3,>=2.3.0->tensorflow) (2019.11.28)\n",
      "Requirement already satisfied: importlib-metadata; python_version < \"3.8\" in c:\\users\\trang\\anaconda3\\lib\\site-packages (from markdown>=2.6.8->tensorboard<3,>=2.3.0->tensorflow) (1.5.0)\n",
      "Requirement already satisfied: pyasn1<0.5.0,>=0.4.6 in c:\\users\\trang\\anaconda3\\lib\\site-packages (from pyasn1-modules>=0.2.1->google-auth<2,>=1.6.3->tensorboard<3,>=2.3.0->tensorflow) (0.4.8)\n",
      "Requirement already satisfied: oauthlib>=3.0.0 in c:\\users\\trang\\anaconda3\\lib\\site-packages (from requests-oauthlib>=0.7.0->google-auth-oauthlib<0.5,>=0.4.1->tensorboard<3,>=2.3.0->tensorflow) (3.1.0)\n",
      "Requirement already satisfied: zipp>=0.5 in c:\\users\\trang\\anaconda3\\lib\\site-packages (from importlib-metadata; python_version < \"3.8\"->markdown>=2.6.8->tensorboard<3,>=2.3.0->tensorflow) (2.2.0)\n"
     ]
    }
   ],
   "source": [
    "!pip install nltk\n",
    "!pip install numpy\n",
    "!pip install pandas\n",
    "!pip install keras\n",
    "!pip install matplotlib\n",
    "!pip install tensorflow"
   ]
  },
  {
   "cell_type": "markdown",
   "metadata": {},
   "source": [
    "## Introduction to Keras"
   ]
  },
  {
   "cell_type": "code",
   "execution_count": 2,
   "metadata": {},
   "outputs": [
    {
     "data": {
      "image/png": "[encoded data removed]",
      "text/plain": [
       "<Figure size 432x288 with 1 Axes>"
      ]
     },
     "metadata": {
      "needs_background": "light"
     },
     "output_type": "display_data"
    }
   ],
   "source": [
    "# a simple classificaiton task\n",
    "\n",
    "import numpy as np\n",
    "import matplotlib.pyplot as plt\n",
    "\n",
    "N = 500\n",
    "np.random.seed(43897)\n",
    "group1 = np.random.normal(loc=0.0, scale=0.6, size=[N, 2])\n",
    "group2 = np.random.normal(loc=1, scale=0.6, size=[N, 2])\n",
    "\n",
    "plt.scatter(group1[:,0], group1[:, 1], label=\"group 1\", alpha=0.5)\n",
    "plt.scatter(group2[:,0], group2[:, 1], label=\"group 2\", alpha=0.5)\n",
    "plt.legend()\n",
    "plt.show()"
   ]
  },
  {
   "cell_type": "code",
   "execution_count": 3,
   "metadata": {},
   "outputs": [
    {
     "name": "stdout",
     "output_type": "stream",
     "text": [
      "size of all dataset (1000, 2) (1000, 2)\n",
      "size of training set: (800, 2), size of dev set: (100, 2), size of test set:(100, 2).\n"
     ]
    }
   ],
   "source": [
    "shuffle_idx = np.random.permutation(2*N)\n",
    "X = np.vstack((group1, group2))[shuffle_idx]\n",
    "y = np.vstack((np.hstack((np.ones([N, 1]), np.zeros([N, 1]))), \n",
    "              np.hstack((np.zeros([N, 1]), np.ones([N, 1])))) )[shuffle_idx]\n",
    "\n",
    "print(\"size of all dataset\", X.shape, y.shape)\n",
    "train_X = X[:int(2*N*0.8), :]\n",
    "train_y = y[:int(2*N*0.8), :]\n",
    "dev_X = X[int(2*N*0.8):int(2*N*0.9), :]\n",
    "dev_y = y[int(2*N*0.8):int(2*N*0.9), :]\n",
    "test_X = X[int(2*N*0.9):, :]\n",
    "test_y = y[int(2*N*0.9):, :]\n",
    "print(\"size of training set: {}, size of dev set: {}, size of test set:{}.\".format(train_X.shape, dev_X.shape, test_X.shape))"
   ]
  },
  {
   "cell_type": "markdown",
   "metadata": {},
   "source": [
    "Perceptron model"
   ]
  },
  {
   "cell_type": "code",
   "execution_count": 4,
   "metadata": {},
   "outputs": [
    {
     "name": "stdout",
     "output_type": "stream",
     "text": [
      "\n",
      "Epoch 00001: val_loss improved from inf to 0.38596, saving model to models\\weights.hdf5\n",
      "\n",
      "Epoch 00002: val_loss improved from 0.38596 to 0.34370, saving model to models\\weights.hdf5\n",
      "\n",
      "Epoch 00003: val_loss improved from 0.34370 to 0.32824, saving model to models\\weights.hdf5\n",
      "\n",
      "Epoch 00004: val_loss improved from 0.32824 to 0.32406, saving model to models\\weights.hdf5\n",
      "\n",
      "Epoch 00005: val_loss did not improve from 0.32406\n",
      "\n",
      "Epoch 00006: val_loss improved from 0.32406 to 0.32141, saving model to models\\weights.hdf5\n",
      "\n",
      "Epoch 00007: val_loss improved from 0.32141 to 0.31910, saving model to models\\weights.hdf5\n",
      "\n",
      "Epoch 00008: val_loss improved from 0.31910 to 0.31846, saving model to models\\weights.hdf5\n",
      "\n",
      "Epoch 00009: val_loss did not improve from 0.31846\n",
      "\n",
      "Epoch 00010: val_loss did not improve from 0.31846\n",
      "25/25 [==============================] - 0s 718us/step - loss: 0.2704 - accuracy: 0.8850\n",
      "acc of training set = 0.88\n",
      "4/4 [==============================] - 0s 749us/step - loss: 0.2728 - accuracy: 0.8500\n",
      "acc of testing set = 0.85\n",
      "4/4 [==============================] - 0s 998us/step - loss: 0.2745 - accuracy: 0.8500\n",
      "acc of testing set = 0.85\n"
     ]
    }
   ],
   "source": [
    "from keras.models import Sequential\n",
    "from keras.layers import Dense\n",
    "from keras.optimizers import SGD\n",
    "\n",
    "from keras.callbacks import ModelCheckpoint\n",
    "import os\n",
    "if not os.path.exists(\"models/\"):\n",
    "    os.mkdir(\"models\")\n",
    "    \n",
    "checkpoint_path = \"models/weights.hdf5\"    \n",
    "checkpointer = ModelCheckpoint(filepath=checkpoint_path, verbose=1, save_best_only=True)\n",
    "\n",
    "learning_rate = 0.1\n",
    "\n",
    "output_size = 2 # num_class\n",
    "input_size = 2 # num dimension\n",
    "\n",
    "model = Sequential()\n",
    "model.add(Dense(output_size, input_shape=(input_size,), activation=\"softmax\"))\n",
    "\n",
    "model.compile(loss=\"binary_crossentropy\", \n",
    "              optimizer=SGD(lr=learning_rate), \n",
    "              metrics=[\"accuracy\"])\n",
    "\n",
    "model.fit(train_X, train_y, epochs=10, batch_size=10, verbose=0,\n",
    "         validation_data=(dev_X, dev_y), callbacks=[checkpointer])\n",
    "\n",
    "loss_train, accuracy_train = model.evaluate(train_X, train_y)\n",
    "\n",
    "print(\"acc of training set = {:.2f}\".format(accuracy_train))\n",
    "\n",
    "loss_test, accuracy_test = model.evaluate(test_X, test_y)\n",
    "print(\"acc of testing set = {:.2f}\".format(accuracy_test))\n",
    "\n",
    "model.load_weights(checkpoint_path)\n",
    "\n",
    "loss_test, accuracy_test = model.evaluate(test_X, test_y)\n",
    "print(\"acc of testing set = {:.2f}\".format(accuracy_test))"
   ]
  },
  {
   "cell_type": "markdown",
   "metadata": {},
   "source": [
    "## Get the prediciton results"
   ]
  },
  {
   "cell_type": "code",
   "execution_count": 5,
   "metadata": {},
   "outputs": [
    {
     "name": "stdout",
     "output_type": "stream",
     "text": [
      "WARNING:tensorflow:From <ipython-input-5-39630fd7bb1f>:1: Sequential.predict_classes (from tensorflow.python.keras.engine.sequential) is deprecated and will be removed after 2021-01-01.\n",
      "Instructions for updating:\n",
      "Please use instead:* `np.argmax(model.predict(x), axis=-1)`,   if your model does multi-class classification   (e.g. if it uses a `softmax` last-layer activation).* `(model.predict(x) > 0.5).astype(\"int32\")`,   if your model does binary classification   (e.g. if it uses a `sigmoid` last-layer activation).\n",
      "[1 0 0 0 0 1 1 0 0 1 1 0 1 1 1 1 0 1 1 0 0 1 1 1 0 0 0 1 0 1 1 1 1 1 1 1 1\n",
      " 1 0 1 1 1 1 1 1 0 1 1 0 0 0 0 0 1 1 1 1 1 1 0 0 0 0 0 0 0 1 1 1 1 1 1 1 1\n",
      " 0 0 1 0 1 0 0 0 0 0 1 0 1 1 0 0 1 0 0 0 0 1 1 0 0 0]\n"
     ]
    }
   ],
   "source": [
    "Y_pred = model.predict_classes(test_X, batch_size=10, verbose=0)\n",
    "print(Y_pred)"
   ]
  },
  {
   "cell_type": "code",
   "execution_count": 6,
   "metadata": {},
   "outputs": [
    {
     "data": {
      "image/png": "[encoded data removed]",
      "text/plain": [
       "<Figure size 432x288 with 1 Axes>"
      ]
     },
     "metadata": {
      "needs_background": "light"
     },
     "output_type": "display_data"
    }
   ],
   "source": [
    "# visialization\n",
    "# edgecolors\n",
    "correct_x = [[], []]\n",
    "wrong_x = [[], []]\n",
    "\n",
    "for i, (y, y_) in enumerate(zip(Y_pred, test_y)):\n",
    "    y_ = np.argmax(y_)\n",
    "    if y == y_:\n",
    "        correct_x[y_].append(test_X[i])\n",
    "    else:\n",
    "        wrong_x[y_].append(test_X[i])\n",
    "plt.scatter(np.array(correct_x[0])[:, 0], np.array(correct_x[0])[:, 1], color=\"blue\", label=\"blue_correct\")\n",
    "plt.scatter(np.array(wrong_x[0])[:, 0], np.array(wrong_x[0])[:, 1], color=\"blue\", marker=\"x\", label=\"blue_wrong\")\n",
    "plt.scatter(np.array(correct_x[1])[:, 0], np.array(correct_x[1])[:, 1], color=\"coral\", label=\"coral_correct\")\n",
    "plt.scatter(np.array(wrong_x[1])[:, 0], np.array(wrong_x[1])[:, 1], color=\"coral\", marker=\"x\", label=\"coral_wrong\")\n",
    "plt.title(\"Predictions on the testing set\")\n",
    "plt.legend()\n",
    "plt.show()"
   ]
  },
  {
   "cell_type": "markdown",
   "metadata": {},
   "source": [
    "## Multilayer perceptron in NLP. Text classification"
   ]
  },
  {
   "cell_type": "markdown",
   "metadata": {},
   "source": [
    "Input features: 1-gram BOW of a sentence.\n",
    "\n",
    "Output: class\n",
    "\n",
    "Model: single layer perceptron and 2-layer perceptron"
   ]
  },
  {
   "cell_type": "code",
   "execution_count": null,
   "metadata": {},
   "outputs": [],
   "source": [
    "import numpy as np\n",
    "from scipy import sparse\n",
    "from collections import Counter\n",
    "from sklearn.metrics import accuracy_score\n",
    "import nltk\n",
    "from nltk.corpus import stopwords\n",
    "import string\n",
    "import pandas as pd\n",
    "\n",
    "stopwords = set(stopwords.words(\"english\"))\n",
    "\n",
    "def load_data(file_name):\n",
    "    df = pd.read_csv(file_name)\n",
    "\n",
    "    return df['id'], df[\"text\"], df['label']\n",
    "\n",
    "def load_labels(file_name):\n",
    "    return pd.read_csv(file_name)['label']\n",
    "\n",
    "def tokenize(text):\n",
    "    return nltk.word_tokenize(text)\n",
    "\n",
    "def filter_stopwords(tokens):\n",
    "    return [token for token in tokens if token not in stopwords and not token.isnumeric()]\n",
    "\n",
    "def get_bagofwords(data, vocab_dict):\n",
    "    data_matrix = sparse.lil_matrix((len(data), len(vocab_dict)))\n",
    "\n",
    "    for i, doc in enumerate(data):\n",
    "        for word in doc:\n",
    "            word_idx = vocab_dict.get(word, -1)\n",
    "            if word_idx != -1:\n",
    "                data_matrix[i, word_idx] += 1\n",
    "    data_matrix = data_matrix.tocsr()\n",
    "    \n",
    "    return data_matrix"
   ]
  },
  {
   "cell_type": "code",
   "execution_count": null,
   "metadata": {},
   "outputs": [],
   "source": [
    "# Transform the labels to logits\n",
    "\n",
    "num_class = 5\n",
    "\n",
    "train_labels = np.zeros((len(train_ids), num_class))\n",
    "train_labels[(list(range(len(train_ids))), list(train_labels_raw-1))] = 1\n",
    "\n",
    "test_labels = np.zeros((len(test_ids), num_class))\n",
    "test_labels[(list(range(len(test_ids))), list(load_labels(ans_file)-1))] = 1"
   ]
  },
  {
   "cell_type": "code",
   "execution_count": null,
   "metadata": {},
   "outputs": [],
   "source": [
    "# Tokenization\n",
    "train_tokens = [tokenize(text) for text in train_texts] \n",
    "test_tokens = [tokenize(text) for text in test_texts]\n",
    "# Stop words removal\n",
    "train_tokens = [filter_stopwords(tokens) for tokens in train_tokens]\n",
    "test_tokens = [filter_stopwords(tokens) for tokens in test_tokens]\n",
    "# use a set data structure to hold all words appearing in the train set\n",
    "vocab = set()\n",
    "for i, doc in enumerate(train_tokens):# enumerate over each document in the train set\n",
    "    # enumerate over each word in the document\n",
    "    for word in doc:\n",
    "        # if this word has been added into the set before, \n",
    "        # then it will be ignored, otherwise, it will be \n",
    "        # added into the set.\n",
    "        vocab.add(word)\n",
    "# create a dictionary from the set of words, where the\n",
    "# keys are word strings and the values are numerical indices\n",
    "vocab_dict = dict(zip(vocab, range(len(vocab))))\n",
    "print('Size of vocab: ', len(vocab_dict))"
   ]
  },
  {
   "cell_type": "code",
   "execution_count": null,
   "metadata": {},
   "outputs": [],
   "source": [
    "train_data_matrix = get_bagofwords(train_tokens, vocab_dict)\n",
    "test_data_matrix = get_bagofwords(test_tokens, vocab_dict)"
   ]
  },
  {
   "cell_type": "markdown",
   "metadata": {},
   "source": [
    "## Model"
   ]
  },
  {
   "cell_type": "markdown",
   "metadata": {},
   "source": [
    "Single layer model"
   ]
  },
  {
   "cell_type": "code",
   "execution_count": null,
   "metadata": {},
   "outputs": [],
   "source": [
    "learning_rate = 0.1\n",
    "\n",
    "model_single_layer = Sequential()\n",
    "model_single_layer.add(Dense(num_class, input_shape=(len(vocab_dict),), activation=\"softmax\"))\n",
    "\n",
    "model_single_layer.compile(loss=\"binary_crossentropy\", \n",
    "              optimizer=SGD(lr=learning_rate), \n",
    "              metrics=[\"accuracy\"])"
   ]
  },
  {
   "cell_type": "code",
   "execution_count": null,
   "metadata": {},
   "outputs": [],
   "source": [
    "model_single_layer.fit(train_data_matrix, train_labels, epochs=20, batch_size=100, verbose=1)\n",
    "\n",
    "loss_train, accuracy_train = model_single_layer.evaluate(train_data_matrix, train_labels)\n",
    "print(\"acc of training set = {:.2f}\".format(accuracy_train))"
   ]
  },
  {
   "cell_type": "code",
   "execution_count": null,
   "metadata": {},
   "outputs": [],
   "source": [
    "loss_test, accuracy_test = model_single_layer.evaluate(test_data_matrix, test_labels)\n",
    "print(\"acc of testing set = {:.4f}\".format(accuracy_test))"
   ]
  },
  {
   "cell_type": "markdown",
   "metadata": {},
   "source": [
    "Two layers model"
   ]
  },
  {
   "cell_type": "code",
   "execution_count": null,
   "metadata": {},
   "outputs": [],
   "source": [
    "learning_rate = 0.1\n",
    "\n",
    "model_two_layer = Sequential()\n",
    "model_two_layer.add(Dense(len(vocab_dict), input_shape=(len(vocab_dict),), activation=\"relu\"))\n",
    "\n",
    "model_two_layer.add(Dense(num_class, input_shape=(len(vocab_dict),), activation=\"softmax\"))\n",
    "\n",
    "model_two_layer.compile(loss=\"binary_crossentropy\", \n",
    "              optimizer=SGD(lr=learning_rate), \n",
    "              metrics=[\"accuracy\"])\n",
    "\n",
    "model_two_layer.fit(train_data_matrix, train_labels, epochs=30, batch_size=100, verbose=1)\n",
    "\n",
    "loss_test, accuracy_test = model_two_layer.evaluate(test_data_matrix, test_labels)\n",
    "print(\"acc of testing set = {:.4f}\".format(accuracy_test))"
   ]
  },
  {
   "cell_type": "markdown",
   "metadata": {},
   "source": [
    "## Parameter tunning"
   ]
  },
  {
   "cell_type": "code",
   "execution_count": null,
   "metadata": {},
   "outputs": [],
   "source": [
    "# parameter tuning\n",
    "\n",
    "for batch_size in [5, 10, 100]:\n",
    "    learning_rate = 0.1\n",
    "\n",
    "    model_single_layer = Sequential()\n",
    "    model_single_layer.add(Dense(num_class, input_shape=(len(vocab_dict),), activation=\"softmax\"))\n",
    "\n",
    "    model_single_layer.compile(loss=\"binary_crossentropy\", \n",
    "                  optimizer=SGD(lr=learning_rate), \n",
    "                  metrics=[\"accuracy\"])\n",
    "\n",
    "    train_history = model_single_layer.fit(train_data_matrix, \n",
    "                                           train_labels, \n",
    "                                           epochs=20, \n",
    "                                           batch_size=batch_size, \n",
    "                                           verbose=0,\n",
    "                                           validation_data=(test_data_matrix, test_labels)\n",
    "                                           )\n",
    "\n",
    "#     loss = train_history.history['loss']\n",
    "    val_loss = train_history.history['val_loss']\n",
    "#     plt.plot(loss, )\n",
    "    plt.plot(val_loss, label=\"b_s:{}\".format(batch_size))\n",
    "plt.legend()\n",
    "plt.show()"
   ]
  },
  {
   "cell_type": "markdown",
   "metadata": {},
   "source": [
    "When run the program, we can see that batch size 100 has the best performance"
   ]
  }
 ],
 "metadata": {
  "kernelspec": {
   "display_name": "Python 3",
   "language": "python",
   "name": "python3"
  },
  "language_info": {
   "codemirror_mode": {
    "name": "ipython",
    "version": 3
   },
   "file_extension": ".py",
   "mimetype": "text/x-python",
   "name": "python",
   "nbconvert_exporter": "python",
   "pygments_lexer": "ipython3",
   "version": "3.7.6"
  }
 },
 "nbformat": 4,
 "nbformat_minor": 4
}
